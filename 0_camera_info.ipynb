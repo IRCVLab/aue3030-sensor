{
 "cells": [
  {
   "cell_type": "markdown",
   "id": "9998bdf5",
   "metadata": {
    "vscode": {
     "languageId": "plaintext"
    }
   },
   "source": [
    "## PySpin을 활용한 카메라 정보 확인 실습"
   ]
  },
  {
   "cell_type": "code",
   "execution_count": null,
   "id": "96107061",
   "metadata": {},
   "outputs": [],
   "source": [
    "import PySpin\n",
    "\n",
    "### system 객체로부터 카메라 객체 획득\n",
    "system = PySpin.System.GetInstance()\n",
    "cam_list = system.GetCameras()"
   ]
  },
  {
   "cell_type": "code",
   "execution_count": null,
   "id": "13f27178",
   "metadata": {},
   "outputs": [],
   "source": [
    "cam_list"
   ]
  },
  {
   "cell_type": "code",
   "execution_count": null,
   "id": "96c1c5fa",
   "metadata": {},
   "outputs": [],
   "source": [
    "### 연결된 Camera 갯수 확인\n",
    "num = cam_list.GetSize()\n",
    "print(f\"✅ {num} camera(s) detected.\")"
   ]
  },
  {
   "cell_type": "code",
   "execution_count": null,
   "id": "620340ae",
   "metadata": {},
   "outputs": [],
   "source": [
    "### 0번 카메라 객체 포인터 획득\n",
    "idx = 0\n",
    "cam = cam_list.GetByIndex(idx)"
   ]
  },
  {
   "cell_type": "code",
   "execution_count": null,
   "id": "1598f301",
   "metadata": {},
   "outputs": [],
   "source": [
    "### 카메라 초기화 및 노드맵 획득\n",
    "cam.Init()\n",
    "nodemap = cam.GetNodeMap()"
   ]
  },
  {
   "cell_type": "code",
   "execution_count": null,
   "id": "adce07e6",
   "metadata": {},
   "outputs": [],
   "source": [
    "def get_node_value(nodemap: PySpin.INodeMap, node_name: str) -> str:\n",
    "    \"\"\"\n",
    "    Read a CString node as str if available/readable; otherwise 'N/A'.\n",
    "\n",
    "    Args:\n",
    "        nodemap (PySpin.INodeMap): Camera node map (requires cam.Init()).\n",
    "        node_name (str): Node name to read (e.g., 'DeviceModelName').\n",
    "\n",
    "    Returns:\n",
    "        str: Node value or 'N/A' when not readable.\n",
    "    \"\"\"\n",
    "    node = PySpin.CStringPtr(nodemap.GetNode(node_name))\n",
    "    if PySpin.IsAvailable(node) and PySpin.IsReadable(node):\n",
    "        return node.GetValue()\n",
    "    return \"N/A\""
   ]
  },
  {
   "cell_type": "code",
   "execution_count": null,
   "id": "6948bcb9",
   "metadata": {},
   "outputs": [],
   "source": [
    "### 아래 node의 값을 가져와서 출력\n",
    "import pprint\n",
    "info_nodes = {\n",
    "    \"Model Name\":        \"DeviceModelName\",\n",
    "    \"Serial Number\":     \"DeviceSerialNumber\",\n",
    "    \"Vendor Name\":       \"DeviceVendorName\",\n",
    "    \"Firmware Ver.\":     \"DeviceFirmwareVersion\",\n",
    "    \"Device Version\":    \"DeviceVersion\",\n",
    "}\n",
    "kv = {label: get_node_value(nodemap, node) for label, node in info_nodes.items()}\n",
    "pprint.pprint(kv)"
   ]
  },
  {
   "cell_type": "code",
   "execution_count": null,
   "id": "deeb4d99",
   "metadata": {},
   "outputs": [],
   "source": [
    "cam.DeInit()\n",
    "del cam\n",
    "cam_list.Clear()\n",
    "del cam_list\n",
    "system.ReleaseInstance()\n",
    "del system"
   ]
  }
 ],
 "metadata": {
  "kernelspec": {
   "display_name": "aue3030-sensor",
   "language": "python",
   "name": "python3"
  },
  "language_info": {
   "name": "python",
   "version": "3.8.10"
  }
 },
 "nbformat": 4,
 "nbformat_minor": 5
}
